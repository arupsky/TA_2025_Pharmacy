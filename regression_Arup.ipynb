{
 "cells": [
  {
   "cell_type": "code",
   "execution_count": 3,
   "id": "70e6142e",
   "metadata": {},
   "outputs": [],
   "source": [
    "# ============================================\n",
    "# 📓 Regression for Pharmacy Students (Full)\n",
    "# ============================================\n",
    "\n",
    "# Import libraries\n",
    "import numpy as np\n",
    "import pandas as pd\n",
    "import matplotlib.pyplot as plt\n",
    "import seaborn as sns\n",
    "from sklearn.linear_model import LinearRegression, LogisticRegression\n",
    "\n",
    "sns.set_style(\"whitegrid\")\n"
   ]
  },
  {
   "cell_type": "markdown",
   "id": "c4358df0",
   "metadata": {},
   "source": [
    "# Part 1 — Intuition: What is Regression?\n",
    "\n",
    "As pharmacists, you collect data:\n",
    "\n",
    "- Drug doses\n",
    "- Patient age\n",
    "- Blood pressure\n",
    "- Side effects\n",
    "\n",
    "You want to answer:  \n",
    "**“Is there any relationship between my variables?”**\n",
    "\n",
    "---\n",
    "\n",
    "## What Regression Does:\n",
    "\n",
    "Regression finds a relationship between:\n",
    "\n",
    "- Inputs (predictors, independent variables)\n",
    "- Outcome (dependent variable)\n",
    "\n",
    "It estimates:\n",
    "\n",
    "- How much outcome changes if predictor changes.\n",
    "- The strength of this relationship.\n",
    "\n",
    "---\n",
    "\n",
    "| Regression Type | Use When | Example |\n",
    "| ---------------- | -------- | ------- |\n",
    "| Linear Regression | Outcome is a number | Predict blood pressure |\n",
    "| Logistic Regression | Outcome is yes/no | Predict side effects |\n"
   ]
  },
  {
   "cell_type": "markdown",
   "id": "d2a85054",
   "metadata": {},
   "source": [
    "# Part 2 — Linear Regression"
   ]
  },
  {
   "cell_type": "markdown",
   "id": "608bd357",
   "metadata": {},
   "source": [
    "## Key Idea: Linear Regression\n",
    "\n",
    "- **Model formula:**  \n",
    "  `Y = a + bX + error`\n",
    "  \n",
    "Where:\n",
    "\n",
    "- Y = outcome\n",
    "- X = predictor\n",
    "- `a` = intercept (value of Y when X = 0)\n",
    "- `b` = slope (how much Y changes for 1 unit of X)"
   ]
  },
  {
   "cell_type": "markdown",
   "id": "ba1b8b34",
   "metadata": {},
   "source": [
    "## 🧪 Example 1: Dose vs Blood Pressure\n",
    "You collected data from 10 patients:"
   ]
  },
  {
   "cell_type": "code",
   "execution_count": 4,
   "id": "35992572",
   "metadata": {},
   "outputs": [
    {
     "data": {
      "text/html": [
       "<div>\n",
       "<style scoped>\n",
       "    .dataframe tbody tr th:only-of-type {\n",
       "        vertical-align: middle;\n",
       "    }\n",
       "\n",
       "    .dataframe tbody tr th {\n",
       "        vertical-align: top;\n",
       "    }\n",
       "\n",
       "    .dataframe thead th {\n",
       "        text-align: right;\n",
       "    }\n",
       "</style>\n",
       "<table border=\"1\" class=\"dataframe\">\n",
       "  <thead>\n",
       "    <tr style=\"text-align: right;\">\n",
       "      <th></th>\n",
       "      <th>dose</th>\n",
       "      <th>bp</th>\n",
       "    </tr>\n",
       "  </thead>\n",
       "  <tbody>\n",
       "    <tr>\n",
       "      <th>0</th>\n",
       "      <td>10</td>\n",
       "      <td>140</td>\n",
       "    </tr>\n",
       "    <tr>\n",
       "      <th>1</th>\n",
       "      <td>20</td>\n",
       "      <td>135</td>\n",
       "    </tr>\n",
       "    <tr>\n",
       "      <th>2</th>\n",
       "      <td>30</td>\n",
       "      <td>132</td>\n",
       "    </tr>\n",
       "    <tr>\n",
       "      <th>3</th>\n",
       "      <td>40</td>\n",
       "      <td>128</td>\n",
       "    </tr>\n",
       "    <tr>\n",
       "      <th>4</th>\n",
       "      <td>50</td>\n",
       "      <td>125</td>\n",
       "    </tr>\n",
       "    <tr>\n",
       "      <th>5</th>\n",
       "      <td>60</td>\n",
       "      <td>120</td>\n",
       "    </tr>\n",
       "    <tr>\n",
       "      <th>6</th>\n",
       "      <td>70</td>\n",
       "      <td>118</td>\n",
       "    </tr>\n",
       "    <tr>\n",
       "      <th>7</th>\n",
       "      <td>80</td>\n",
       "      <td>115</td>\n",
       "    </tr>\n",
       "    <tr>\n",
       "      <th>8</th>\n",
       "      <td>90</td>\n",
       "      <td>112</td>\n",
       "    </tr>\n",
       "    <tr>\n",
       "      <th>9</th>\n",
       "      <td>100</td>\n",
       "      <td>110</td>\n",
       "    </tr>\n",
       "  </tbody>\n",
       "</table>\n",
       "</div>"
      ],
      "text/plain": [
       "   dose   bp\n",
       "0    10  140\n",
       "1    20  135\n",
       "2    30  132\n",
       "3    40  128\n",
       "4    50  125\n",
       "5    60  120\n",
       "6    70  118\n",
       "7    80  115\n",
       "8    90  112\n",
       "9   100  110"
      ]
     },
     "execution_count": 4,
     "metadata": {},
     "output_type": "execute_result"
    }
   ],
   "source": [
    "# Data preparation\n",
    "dose = np.array([10,20,30,40,50,60,70,80,90,100])\n",
    "bp = np.array([140,135,132,128,125,120,118,115,112,110])\n",
    "\n",
    "df = pd.DataFrame({'dose': dose, 'bp': bp})\n",
    "df"
   ]
  },
  {
   "cell_type": "code",
   "execution_count": 5,
   "id": "c72051e7",
   "metadata": {},
   "outputs": [
    {
     "data": {
      "image/png": "[encoded data removed]",
      "text/plain": [
       "<Figure size 640x480 with 1 Axes>"
      ]
     },
     "metadata": {},
     "output_type": "display_data"
    }
   ],
   "source": [
    "# Scatter plot\n",
    "plt.scatter(df['dose'], df['bp'], c='blue', s=50)\n",
    "plt.title(\"Dose vs Blood Pressure\")\n",
    "plt.xlabel(\"Dose (mg)\")\n",
    "plt.ylabel(\"Blood Pressure (mmHg)\")\n",
    "plt.show()"
   ]
  },
  {
   "cell_type": "code",
   "execution_count": 6,
   "id": "148ada5d",
   "metadata": {},
   "outputs": [
    {
     "name": "stdout",
     "output_type": "stream",
     "text": [
      "Intercept: 141.86666666666667\n",
      "Slope: -0.3339393939393939\n"
     ]
    }
   ],
   "source": [
    "# Reshape X because sklearn expects 2D array for features\n",
    "X = df[['dose']]   # note: double bracket makes it a DataFrame (2D)\n",
    "y = df['bp']\n",
    "\n",
    "# Create model and fit\n",
    "model = LinearRegression()\n",
    "model.fit(X, y)\n",
    "\n",
    "# Get slope and intercept\n",
    "print(f\"Intercept: {model.intercept_}\")\n",
    "print(f\"Slope: {model.coef_[0]}\")"
   ]
  },
  {
   "cell_type": "code",
   "execution_count": 7,
   "id": "b06640a6",
   "metadata": {},
   "outputs": [
    {
     "data": {
      "image/png": "[encoded data removed]",
      "text/plain": [
       "<Figure size 640x480 with 1 Axes>"
      ]
     },
     "metadata": {},
     "output_type": "display_data"
    }
   ],
   "source": [
    "# Plot with regression line\n",
    "plt.scatter(df['dose'], df['bp'], c='blue', s=50, label='Data')\n",
    "plt.plot(df['dose'], model.predict(X), color='red', label='Regression Line')\n",
    "plt.title(\"Dose vs Blood Pressure\")\n",
    "plt.xlabel(\"Dose (mg)\")\n",
    "plt.ylabel(\"Blood Pressure (mmHg)\")\n",
    "plt.legend()\n",
    "plt.show()\n"
   ]
  },
  {
   "cell_type": "markdown",
   "id": "aed3071a",
   "metadata": {},
   "source": [
    "### Interpretation:\n",
    "- Intercept: predicted BP at dose = 0\n",
    "- Slope: how much BP changes per mg increase\n",
    "- p-value: is slope statistically significant?\n",
    "- R²: how well model fits the data (0 = bad fit, 1 = perfect fit)"
   ]
  },
  {
   "cell_type": "markdown",
   "id": "cabb39c6",
   "metadata": {},
   "source": [
    "## 🧪 Example 2: Multiple Predictors (Dose + Weight)\n",
    "Suppose now you also measure patient weight."
   ]
  },
  {
   "cell_type": "code",
   "execution_count": 8,
   "id": "aaf86da0",
   "metadata": {},
   "outputs": [
    {
     "data": {
      "text/html": [
       "<div>\n",
       "<style scoped>\n",
       "    .dataframe tbody tr th:only-of-type {\n",
       "        vertical-align: middle;\n",
       "    }\n",
       "\n",
       "    .dataframe tbody tr th {\n",
       "        vertical-align: top;\n",
       "    }\n",
       "\n",
       "    .dataframe thead th {\n",
       "        text-align: right;\n",
       "    }\n",
       "</style>\n",
       "<table border=\"1\" class=\"dataframe\">\n",
       "  <thead>\n",
       "    <tr style=\"text-align: right;\">\n",
       "      <th></th>\n",
       "      <th>dose</th>\n",
       "      <th>weight</th>\n",
       "      <th>bp</th>\n",
       "    </tr>\n",
       "  </thead>\n",
       "  <tbody>\n",
       "    <tr>\n",
       "      <th>0</th>\n",
       "      <td>10</td>\n",
       "      <td>70</td>\n",
       "      <td>140</td>\n",
       "    </tr>\n",
       "    <tr>\n",
       "      <th>1</th>\n",
       "      <td>20</td>\n",
       "      <td>72</td>\n",
       "      <td>135</td>\n",
       "    </tr>\n",
       "    <tr>\n",
       "      <th>2</th>\n",
       "      <td>30</td>\n",
       "      <td>74</td>\n",
       "      <td>132</td>\n",
       "    </tr>\n",
       "    <tr>\n",
       "      <th>3</th>\n",
       "      <td>40</td>\n",
       "      <td>76</td>\n",
       "      <td>128</td>\n",
       "    </tr>\n",
       "    <tr>\n",
       "      <th>4</th>\n",
       "      <td>50</td>\n",
       "      <td>78</td>\n",
       "      <td>125</td>\n",
       "    </tr>\n",
       "    <tr>\n",
       "      <th>5</th>\n",
       "      <td>60</td>\n",
       "      <td>80</td>\n",
       "      <td>120</td>\n",
       "    </tr>\n",
       "    <tr>\n",
       "      <th>6</th>\n",
       "      <td>70</td>\n",
       "      <td>82</td>\n",
       "      <td>118</td>\n",
       "    </tr>\n",
       "    <tr>\n",
       "      <th>7</th>\n",
       "      <td>80</td>\n",
       "      <td>84</td>\n",
       "      <td>115</td>\n",
       "    </tr>\n",
       "    <tr>\n",
       "      <th>8</th>\n",
       "      <td>90</td>\n",
       "      <td>86</td>\n",
       "      <td>112</td>\n",
       "    </tr>\n",
       "    <tr>\n",
       "      <th>9</th>\n",
       "      <td>100</td>\n",
       "      <td>88</td>\n",
       "      <td>110</td>\n",
       "    </tr>\n",
       "  </tbody>\n",
       "</table>\n",
       "</div>"
      ],
      "text/plain": [
       "   dose  weight   bp\n",
       "0    10      70  140\n",
       "1    20      72  135\n",
       "2    30      74  132\n",
       "3    40      76  128\n",
       "4    50      78  125\n",
       "5    60      80  120\n",
       "6    70      82  118\n",
       "7    80      84  115\n",
       "8    90      86  112\n",
       "9   100      88  110"
      ]
     },
     "execution_count": 8,
     "metadata": {},
     "output_type": "execute_result"
    }
   ],
   "source": [
    "# Adding weight data\n",
    "weight = np.array([70,72,74,76,78,80,82,84,86,88])\n",
    "df2 = pd.DataFrame({'dose': dose, 'weight': weight, 'bp': bp})\n",
    "df2"
   ]
  },
  {
   "cell_type": "code",
   "execution_count": 9,
   "id": "852b5b52",
   "metadata": {},
   "outputs": [
    {
     "name": "stdout",
     "output_type": "stream",
     "text": [
      "Intercept: 146.23356643356644\n",
      "Coefficients: [-0.32109557 -0.06421911]\n",
      "dose: -0.32109557109557113\n",
      "weight: -0.0642191142191142\n"
     ]
    }
   ],
   "source": [
    "# Feature matrix: multiple predictors\n",
    "X2 = df2[['dose', 'weight']]  # no need to add constant\n",
    "\n",
    "# Target variable\n",
    "y2 = df2['bp']\n",
    "\n",
    "# Create model and fit\n",
    "model2 = LinearRegression()\n",
    "model2.fit(X2, y2)\n",
    "\n",
    "# Get intercept and coefficients\n",
    "print(f\"Intercept: {model2.intercept_}\")\n",
    "print(f\"Coefficients: {model2.coef_}\")\n",
    "\n",
    "# Optional: nicely print coefficients\n",
    "for feature, coef in zip(X2.columns, model2.coef_):\n",
    "    print(f\"{feature}: {coef}\")\n"
   ]
  },
  {
   "cell_type": "markdown",
   "id": "59f7d54a",
   "metadata": {},
   "source": [
    "### Interpretation of Multiple Regression (Dose + Weight)\n",
    "\n",
    "- The model includes two predictors: Dose and Weight.\n",
    "- Each coefficient represents the **change in BP** per unit change in that variable, **holding the other constant**.\n",
    "\n",
    "- For example:\n",
    "  - If the coefficient of `dose` is -0.3, it means:\n",
    "    > *For every 1 mg increase in dose, BP is expected to decrease by 0.3 mmHg, assuming weight remains constant.*\n",
    "\n",
    "- If the coefficient of `weight` is also negative (e.g. -0.5), it means:\n",
    "    > *Heavier patients tend to have lower BP, after accounting for dose.*\n",
    "\n",
    "- The plot above shows the predicted relationship between dose and BP **with weight fixed** at the average."
   ]
  },
  {
   "cell_type": "markdown",
   "id": "13142e27",
   "metadata": {},
   "source": [
    "## Quick Recap Table:\n",
    "\n",
    "| Term | Meaning |\n",
    "| ---- | ------- |\n",
    "| Intercept | BP when all predictors = 0 |\n",
    "| Coefficient | Change in BP per 1 unit increase in predictor |\n",
    "| p-value | Whether the predictor has significant effect |\n",
    "| R² | Overall fit of the model |\n"
   ]
  },
  {
   "cell_type": "markdown",
   "id": "2646ec2f",
   "metadata": {},
   "source": [
    "# Part 3 — Logistic Regression"
   ]
  },
  {
   "cell_type": "markdown",
   "id": "1138e4d7",
   "metadata": {},
   "source": [
    "## Key Idea: Logistic Regression\n",
    "\n",
    "- Used when outcome is yes/no, 0/1, success/failure\n",
    "- Models probability of event happening\n",
    "- Internally works with **log-odds**, but we interpret probabilities\n"
   ]
  },
  {
   "cell_type": "markdown",
   "id": "828dab3b",
   "metadata": {},
   "source": [
    "## 🧪 Example 3: Age vs Side Effects\n",
    "You collected this data:"
   ]
  },
  {
   "cell_type": "code",
   "execution_count": 11,
   "id": "c6cebb25",
   "metadata": {},
   "outputs": [
    {
     "data": {
      "text/html": [
       "<div>\n",
       "<style scoped>\n",
       "    .dataframe tbody tr th:only-of-type {\n",
       "        vertical-align: middle;\n",
       "    }\n",
       "\n",
       "    .dataframe tbody tr th {\n",
       "        vertical-align: top;\n",
       "    }\n",
       "\n",
       "    .dataframe thead th {\n",
       "        text-align: right;\n",
       "    }\n",
       "</style>\n",
       "<table border=\"1\" class=\"dataframe\">\n",
       "  <thead>\n",
       "    <tr style=\"text-align: right;\">\n",
       "      <th></th>\n",
       "      <th>age</th>\n",
       "      <th>side_effect</th>\n",
       "    </tr>\n",
       "  </thead>\n",
       "  <tbody>\n",
       "    <tr>\n",
       "      <th>0</th>\n",
       "      <td>25</td>\n",
       "      <td>0</td>\n",
       "    </tr>\n",
       "    <tr>\n",
       "      <th>1</th>\n",
       "      <td>30</td>\n",
       "      <td>0</td>\n",
       "    </tr>\n",
       "    <tr>\n",
       "      <th>2</th>\n",
       "      <td>35</td>\n",
       "      <td>0</td>\n",
       "    </tr>\n",
       "    <tr>\n",
       "      <th>3</th>\n",
       "      <td>40</td>\n",
       "      <td>1</td>\n",
       "    </tr>\n",
       "    <tr>\n",
       "      <th>4</th>\n",
       "      <td>45</td>\n",
       "      <td>1</td>\n",
       "    </tr>\n",
       "    <tr>\n",
       "      <th>5</th>\n",
       "      <td>50</td>\n",
       "      <td>1</td>\n",
       "    </tr>\n",
       "    <tr>\n",
       "      <th>6</th>\n",
       "      <td>55</td>\n",
       "      <td>1</td>\n",
       "    </tr>\n",
       "    <tr>\n",
       "      <th>7</th>\n",
       "      <td>60</td>\n",
       "      <td>1</td>\n",
       "    </tr>\n",
       "  </tbody>\n",
       "</table>\n",
       "</div>"
      ],
      "text/plain": [
       "   age  side_effect\n",
       "0   25            0\n",
       "1   30            0\n",
       "2   35            0\n",
       "3   40            1\n",
       "4   45            1\n",
       "5   50            1\n",
       "6   55            1\n",
       "7   60            1"
      ]
     },
     "execution_count": 11,
     "metadata": {},
     "output_type": "execute_result"
    }
   ],
   "source": [
    "age = np.array([25,30,35,40,45,50,55,60])\n",
    "side_effect = np.array([0,0,0,1,1,1,1,1])\n",
    "\n",
    "df3 = pd.DataFrame({'age': age, 'side_effect': side_effect})\n",
    "df3"
   ]
  },
  {
   "cell_type": "code",
   "execution_count": 12,
   "id": "886702bf",
   "metadata": {},
   "outputs": [
    {
     "name": "stdout",
     "output_type": "stream",
     "text": [
      "Intercept: -0.6919407418625259\n",
      "Slope (age): 0.03847805327703253\n"
     ]
    }
   ],
   "source": [
    "# scikit-learn expects 2D feature matrix\n",
    "X3 = df3[['age']]   # no need for add_constant\n",
    "y3 = df3['side_effect']\n",
    "\n",
    "# Create model and fit\n",
    "model3 = LogisticRegression(solver='liblinear')\n",
    "model3.fit(X3, y3)\n",
    "\n",
    "# Coefficients\n",
    "print(f\"Intercept: {model3.intercept_[0]}\")\n",
    "print(f\"Slope (age): {model3.coef_[0][0]}\")\n"
   ]
  },
  {
   "cell_type": "code",
   "execution_count": 13,
   "id": "8aa90535",
   "metadata": {},
   "outputs": [
    {
     "data": {
      "text/html": [
       "<div>\n",
       "<style scoped>\n",
       "    .dataframe tbody tr th:only-of-type {\n",
       "        vertical-align: middle;\n",
       "    }\n",
       "\n",
       "    .dataframe tbody tr th {\n",
       "        vertical-align: top;\n",
       "    }\n",
       "\n",
       "    .dataframe thead th {\n",
       "        text-align: right;\n",
       "    }\n",
       "</style>\n",
       "<table border=\"1\" class=\"dataframe\">\n",
       "  <thead>\n",
       "    <tr style=\"text-align: right;\">\n",
       "      <th></th>\n",
       "      <th>age</th>\n",
       "      <th>side_effect</th>\n",
       "      <th>predicted_prob</th>\n",
       "    </tr>\n",
       "  </thead>\n",
       "  <tbody>\n",
       "    <tr>\n",
       "      <th>0</th>\n",
       "      <td>25</td>\n",
       "      <td>0</td>\n",
       "      <td>0.567096</td>\n",
       "    </tr>\n",
       "    <tr>\n",
       "      <th>1</th>\n",
       "      <td>30</td>\n",
       "      <td>0</td>\n",
       "      <td>0.613584</td>\n",
       "    </tr>\n",
       "    <tr>\n",
       "      <th>2</th>\n",
       "      <td>35</td>\n",
       "      <td>0</td>\n",
       "      <td>0.658089</td>\n",
       "    </tr>\n",
       "    <tr>\n",
       "      <th>3</th>\n",
       "      <td>40</td>\n",
       "      <td>1</td>\n",
       "      <td>0.699976</td>\n",
       "    </tr>\n",
       "    <tr>\n",
       "      <th>4</th>\n",
       "      <td>45</td>\n",
       "      <td>1</td>\n",
       "      <td>0.738767</td>\n",
       "    </tr>\n",
       "    <tr>\n",
       "      <th>5</th>\n",
       "      <td>50</td>\n",
       "      <td>1</td>\n",
       "      <td>0.774162</td>\n",
       "    </tr>\n",
       "    <tr>\n",
       "      <th>6</th>\n",
       "      <td>55</td>\n",
       "      <td>1</td>\n",
       "      <td>0.806020</td>\n",
       "    </tr>\n",
       "    <tr>\n",
       "      <th>7</th>\n",
       "      <td>60</td>\n",
       "      <td>1</td>\n",
       "      <td>0.834345</td>\n",
       "    </tr>\n",
       "  </tbody>\n",
       "</table>\n",
       "</div>"
      ],
      "text/plain": [
       "   age  side_effect  predicted_prob\n",
       "0   25            0        0.567096\n",
       "1   30            0        0.613584\n",
       "2   35            0        0.658089\n",
       "3   40            1        0.699976\n",
       "4   45            1        0.738767\n",
       "5   50            1        0.774162\n",
       "6   55            1        0.806020\n",
       "7   60            1        0.834345"
      ]
     },
     "execution_count": 13,
     "metadata": {},
     "output_type": "execute_result"
    }
   ],
   "source": [
    "# Predict probability of side effect (class 1)\n",
    "df3['predicted_prob'] = model3.predict_proba(X3)[:, 1]\n",
    "df3"
   ]
  },
  {
   "cell_type": "code",
   "execution_count": 14,
   "id": "ff30a2b7",
   "metadata": {},
   "outputs": [
    {
     "data": {
      "image/png": "[encoded data removed]",
      "text/plain": [
       "<Figure size 640x480 with 1 Axes>"
      ]
     },
     "metadata": {},
     "output_type": "display_data"
    }
   ],
   "source": [
    "# Plot predicted probabilities\n",
    "plt.plot(df3['age'], df3['predicted_prob'], marker='o', linestyle='--', color='purple')\n",
    "plt.title(\"Predicted Probability of Side Effects\")\n",
    "plt.xlabel(\"Age\")\n",
    "plt.ylabel(\"Probability\")\n",
    "plt.ylim(-0.05, 1.05)\n",
    "plt.show()\n"
   ]
  },
  {
   "cell_type": "markdown",
   "id": "2fed2041",
   "metadata": {},
   "source": [
    "### Interpretation:\n",
    "- Coefficient: change in log-odds per year increase\n",
    "- exp(coefficient): odds ratio\n",
    "- p-value: whether predictor is significant"
   ]
  },
  {
   "cell_type": "markdown",
   "id": "70b39503",
   "metadata": {},
   "source": [
    "## 🧪 Example 4: Logistic Regression with Multiple Predictors\n",
    "Now you collect both Age and Dose."
   ]
  },
  {
   "cell_type": "code",
   "execution_count": 15,
   "id": "4439b0d3",
   "metadata": {},
   "outputs": [
    {
     "data": {
      "text/html": [
       "<div>\n",
       "<style scoped>\n",
       "    .dataframe tbody tr th:only-of-type {\n",
       "        vertical-align: middle;\n",
       "    }\n",
       "\n",
       "    .dataframe tbody tr th {\n",
       "        vertical-align: top;\n",
       "    }\n",
       "\n",
       "    .dataframe thead th {\n",
       "        text-align: right;\n",
       "    }\n",
       "</style>\n",
       "<table border=\"1\" class=\"dataframe\">\n",
       "  <thead>\n",
       "    <tr style=\"text-align: right;\">\n",
       "      <th></th>\n",
       "      <th>age</th>\n",
       "      <th>dose</th>\n",
       "      <th>side_effect</th>\n",
       "    </tr>\n",
       "  </thead>\n",
       "  <tbody>\n",
       "    <tr>\n",
       "      <th>0</th>\n",
       "      <td>25</td>\n",
       "      <td>10</td>\n",
       "      <td>0</td>\n",
       "    </tr>\n",
       "    <tr>\n",
       "      <th>1</th>\n",
       "      <td>30</td>\n",
       "      <td>15</td>\n",
       "      <td>0</td>\n",
       "    </tr>\n",
       "    <tr>\n",
       "      <th>2</th>\n",
       "      <td>35</td>\n",
       "      <td>20</td>\n",
       "      <td>0</td>\n",
       "    </tr>\n",
       "    <tr>\n",
       "      <th>3</th>\n",
       "      <td>40</td>\n",
       "      <td>25</td>\n",
       "      <td>1</td>\n",
       "    </tr>\n",
       "    <tr>\n",
       "      <th>4</th>\n",
       "      <td>45</td>\n",
       "      <td>30</td>\n",
       "      <td>1</td>\n",
       "    </tr>\n",
       "    <tr>\n",
       "      <th>5</th>\n",
       "      <td>50</td>\n",
       "      <td>35</td>\n",
       "      <td>1</td>\n",
       "    </tr>\n",
       "    <tr>\n",
       "      <th>6</th>\n",
       "      <td>55</td>\n",
       "      <td>40</td>\n",
       "      <td>1</td>\n",
       "    </tr>\n",
       "    <tr>\n",
       "      <th>7</th>\n",
       "      <td>60</td>\n",
       "      <td>45</td>\n",
       "      <td>1</td>\n",
       "    </tr>\n",
       "  </tbody>\n",
       "</table>\n",
       "</div>"
      ],
      "text/plain": [
       "   age  dose  side_effect\n",
       "0   25    10            0\n",
       "1   30    15            0\n",
       "2   35    20            0\n",
       "3   40    25            1\n",
       "4   45    30            1\n",
       "5   50    35            1\n",
       "6   55    40            1\n",
       "7   60    45            1"
      ]
     },
     "execution_count": 15,
     "metadata": {},
     "output_type": "execute_result"
    }
   ],
   "source": [
    "dose_new = np.array([10,15,20,25,30,35,40,45])\n",
    "age_new = np.array([25,30,35,40,45,50,55,60])\n",
    "side_effect_new = np.array([0,0,0,1,1,1,1,1])\n",
    "\n",
    "df4 = pd.DataFrame({'age': age_new, 'dose': dose_new, 'side_effect': side_effect_new})\n",
    "df4"
   ]
  },
  {
   "cell_type": "code",
   "execution_count": 16,
   "id": "b4270212",
   "metadata": {},
   "outputs": [
    {
     "name": "stdout",
     "output_type": "stream",
     "text": [
      "Intercept: -0.09044384587607741\n",
      "age: -0.5045233363325345\n",
      "dose: 0.852134351808628\n"
     ]
    }
   ],
   "source": [
    "# Prepare feature matrix (no need to add constant)\n",
    "X4 = df4[['age', 'dose']]\n",
    "y4 = df4['side_effect']\n",
    "\n",
    "# Fit logistic regression\n",
    "model4 = LogisticRegression(solver='liblinear')\n",
    "model4.fit(X4, y4)\n",
    "\n",
    "# Print intercept and coefficients\n",
    "print(f\"Intercept: {model4.intercept_[0]}\")\n",
    "for feature, coef in zip(X4.columns, model4.coef_[0]):\n",
    "    print(f\"{feature}: {coef}\")\n"
   ]
  },
  {
   "cell_type": "code",
   "execution_count": 17,
   "id": "a6511a84",
   "metadata": {},
   "outputs": [
    {
     "data": {
      "text/html": [
       "<div>\n",
       "<style scoped>\n",
       "    .dataframe tbody tr th:only-of-type {\n",
       "        vertical-align: middle;\n",
       "    }\n",
       "\n",
       "    .dataframe tbody tr th {\n",
       "        vertical-align: top;\n",
       "    }\n",
       "\n",
       "    .dataframe thead th {\n",
       "        text-align: right;\n",
       "    }\n",
       "</style>\n",
       "<table border=\"1\" class=\"dataframe\">\n",
       "  <thead>\n",
       "    <tr style=\"text-align: right;\">\n",
       "      <th></th>\n",
       "      <th>age</th>\n",
       "      <th>dose</th>\n",
       "      <th>side_effect</th>\n",
       "      <th>predicted_prob</th>\n",
       "    </tr>\n",
       "  </thead>\n",
       "  <tbody>\n",
       "    <tr>\n",
       "      <th>0</th>\n",
       "      <td>25</td>\n",
       "      <td>10</td>\n",
       "      <td>0</td>\n",
       "      <td>0.015036</td>\n",
       "    </tr>\n",
       "    <tr>\n",
       "      <th>1</th>\n",
       "      <td>30</td>\n",
       "      <td>15</td>\n",
       "      <td>0</td>\n",
       "      <td>0.079869</td>\n",
       "    </tr>\n",
       "    <tr>\n",
       "      <th>2</th>\n",
       "      <td>35</td>\n",
       "      <td>20</td>\n",
       "      <td>0</td>\n",
       "      <td>0.330467</td>\n",
       "    </tr>\n",
       "    <tr>\n",
       "      <th>3</th>\n",
       "      <td>40</td>\n",
       "      <td>25</td>\n",
       "      <td>1</td>\n",
       "      <td>0.737300</td>\n",
       "    </tr>\n",
       "    <tr>\n",
       "      <th>4</th>\n",
       "      <td>45</td>\n",
       "      <td>30</td>\n",
       "      <td>1</td>\n",
       "      <td>0.941035</td>\n",
       "    </tr>\n",
       "    <tr>\n",
       "      <th>5</th>\n",
       "      <td>50</td>\n",
       "      <td>35</td>\n",
       "      <td>1</td>\n",
       "      <td>0.989101</td>\n",
       "    </tr>\n",
       "    <tr>\n",
       "      <th>6</th>\n",
       "      <td>55</td>\n",
       "      <td>40</td>\n",
       "      <td>1</td>\n",
       "      <td>0.998066</td>\n",
       "    </tr>\n",
       "    <tr>\n",
       "      <th>7</th>\n",
       "      <td>60</td>\n",
       "      <td>45</td>\n",
       "      <td>1</td>\n",
       "      <td>0.999659</td>\n",
       "    </tr>\n",
       "  </tbody>\n",
       "</table>\n",
       "</div>"
      ],
      "text/plain": [
       "   age  dose  side_effect  predicted_prob\n",
       "0   25    10            0        0.015036\n",
       "1   30    15            0        0.079869\n",
       "2   35    20            0        0.330467\n",
       "3   40    25            1        0.737300\n",
       "4   45    30            1        0.941035\n",
       "5   50    35            1        0.989101\n",
       "6   55    40            1        0.998066\n",
       "7   60    45            1        0.999659"
      ]
     },
     "execution_count": 17,
     "metadata": {},
     "output_type": "execute_result"
    }
   ],
   "source": [
    "# Predict probability of side effect (class 1)\n",
    "df4['predicted_prob'] = model4.predict_proba(X4)[:, 1]\n",
    "df4"
   ]
  },
  {
   "cell_type": "markdown",
   "id": "8962d8d9",
   "metadata": {},
   "source": [
    "# Part 4 — Summary & Wrap-Up\n",
    "\n",
    "✅ When to use which:\n",
    "\n",
    "| Type | Use Case |\n",
    "| ---- | -------- |\n",
    "| Linear | Continuous outcomes (BP, cholesterol, weight) |\n",
    "| Logistic | Yes/No outcomes (side effect, disease present/absent) |\n",
    "\n",
    "✅ Why regression matters in pharmacy:\n",
    "\n",
    "- Clinical studies\n",
    "- Dose-response analysis\n",
    "- Risk assessment\n",
    "- Predictive modeling for personalized medicine\n",
    "\n",
    "🎯 You don't need to memorize formulas.\n",
    "Focus on:\n",
    "\n",
    "- Picking correct model type\n",
    "- Interpreting output meaningfully\n",
    "- Understanding how variables are related."
   ]
  }
 ],
 "metadata": {
  "kernelspec": {
   "display_name": "base",
   "language": "python",
   "name": "python3"
  },
  "language_info": {
   "codemirror_mode": {
    "name": "ipython",
    "version": 3
   },
   "file_extension": ".py",
   "mimetype": "text/x-python",
   "name": "python",
   "nbconvert_exporter": "python",
   "pygments_lexer": "ipython3",
   "version": "3.10.8"
  }
 },
 "nbformat": 4,
 "nbformat_minor": 5
}
